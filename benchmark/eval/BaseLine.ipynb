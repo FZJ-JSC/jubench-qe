{
 "cells": [
  {
   "cell_type": "code",
   "execution_count": 1,
   "metadata": {},
   "outputs": [],
   "source": [
    "import pandas as pd\n",
    "import numpy as np\n",
    "import matplotlib.pyplot as plt\n",
    "import seaborn as sns\n",
    "sns.set()\n",
    "%matplotlib inline"
   ]
  },
  {
   "cell_type": "code",
   "execution_count": 2,
   "metadata": {},
   "outputs": [
    {
     "data": {
      "image/png": "[encoded data removed]",
      "text/plain": [
       "<Figure size 432x288 with 1 Axes>"
      ]
     },
     "metadata": {
      "needs_background": "light"
     },
     "output_type": "display_data"
    }
   ],
   "source": [
    "\n",
    "df=pd.read_csv(\"../data/juwels/result.dat\",index_col=0)\n",
    "#df.rename(columns = {'ns_per_day':'NCCL'}, inplace = True)\n",
    "\n",
    "\n",
    "g=df.plot.bar(fontsize=20)\n",
    "g.set_title(\"Quantum Espresso CP benchmark\")\n",
    "g.set_ylabel(\"Wall clock time (s)\",fontsize=20);"
   ]
  },
  {
   "cell_type": "code",
   "execution_count": null,
   "metadata": {},
   "outputs": [],
   "source": []
  }
 ],
 "metadata": {
  "cite2c": {
   "citations": {
    "6293703/FJN2J2CA": {
     "author": [
      {
       "family": "Salomon-Ferrer",
       "given": "Romelia"
      },
      {
       "family": "Götz",
       "given": "Andreas W."
      },
      {
       "family": "Poole",
       "given": "Duncan"
      },
      {
       "family": "Le Grand",
       "given": "Scott"
      },
      {
       "family": "Walker",
       "given": "Ross C."
      }
     ],
     "container-title": "Journal of chemical theory and computation",
     "id": "6293703/FJN2J2CA",
     "issue": "9",
     "issued": {
      "year": 2013
     },
     "page": "3878–3888",
     "page-first": "3878",
     "title": "Routine microsecond molecular dynamics simulations with AMBER on GPUs. 2. Explicit solvent particle mesh Ewald",
     "type": "article-journal",
     "volume": "9"
    },
    "6293703/IHNQS4NW": {
     "author": [
      {
       "family": "Götz",
       "given": "Andreas W."
      },
      {
       "family": "Williamson",
       "given": "Mark J."
      },
      {
       "family": "Xu",
       "given": "Dong"
      },
      {
       "family": "Poole",
       "given": "Duncan"
      },
      {
       "family": "Le Grand",
       "given": "Scott"
      },
      {
       "family": "Walker",
       "given": "Ross C."
      }
     ],
     "container-title": "Journal of chemical theory and computation",
     "id": "6293703/IHNQS4NW",
     "issue": "5",
     "issued": {
      "year": 2012
     },
     "page": "1542–1555",
     "page-first": "1542",
     "title": "Routine microsecond molecular dynamics simulations with AMBER on GPUs. 1. Generalized born",
     "type": "article-journal",
     "volume": "8"
    }
   }
  },
  "kernelspec": {
   "display_name": "Python 3",
   "language": "python",
   "name": "python3"
  },
  "language_info": {
   "codemirror_mode": {
    "name": "ipython",
    "version": 3
   },
   "file_extension": ".py",
   "mimetype": "text/x-python",
   "name": "python",
   "nbconvert_exporter": "python",
   "pygments_lexer": "ipython3",
   "version": "3.10.6"
  },
  "vscode": {
   "interpreter": {
    "hash": "916dbcbb3f70747c44a77c7bcd40155683ae19c65e1c03b4aa3499c5328201f1"
   }
  }
 },
 "nbformat": 4,
 "nbformat_minor": 4
}
